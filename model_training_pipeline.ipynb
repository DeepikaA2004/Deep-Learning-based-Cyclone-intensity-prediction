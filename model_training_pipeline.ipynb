{
  "nbformat": 4,
  "nbformat_minor": 0,
  "metadata": {
    "colab": {
      "name": "Copy of TESTINGTESTING of Cyclone_intensity_detection.ipynb",
      "provenance": [],
      "authorship_tag": "ABX9TyOuk2UpCSOJBuMoBkscaDz2",
      "include_colab_link": true
    },
    "kernelspec": {
      "name": "python3",
      "display_name": "Python 3"
    },
    "language_info": {
      "name": "python"
    }
  },
  "cells": [
    {
      "cell_type": "markdown",
      "metadata": {
        "id": "view-in-github",
        "colab_type": "text"
      },
      "source": [
        "<a href=\"https://colab.research.google.com/github/cycloneintensity/CrossKnotHacks-Cyclonet/blob/main/model_training_pipeline.ipynb\" target=\"_parent\"><img src=\"https://colab.research.google.com/assets/colab-badge.svg\" alt=\"Open In Colab\"/></a>"
      ]
    },
    {
      "cell_type": "markdown",
      "source": [
        " for dataset access mail to verma.sshubam@gmail.com"
      ],
      "metadata": {
        "id": "Eb2GWr9CPAjR"
      }
    },
    {
      "cell_type": "code",
      "source": [
        "import torch\n",
        "import torch.nn as nn\n",
        "import torchvision\n",
        "from torchvision import transforms\n",
        "from torchsummary import summary\n",
        "import torchvision.transforms as transforms\n",
        "from torch.utils.data import Dataset, DataLoader\n",
        "import matplotlib.pyplot as plt\n",
        "import numpy as np\n",
        "import cv2"
      ],
      "metadata": {
        "id": "oXNPb97z19ti"
      },
      "execution_count": null,
      "outputs": []
    },
    {
      "cell_type": "code",
      "source": [
        "!unzip cyclone_ds.zip"
      ],
      "metadata": {
        "colab": {
          "base_uri": "https://localhost:8080/"
        },
        "id": "yzLKq_aGhhzQ",
        "outputId": "81f52a2f-f4c3-4592-aa0e-8155eb18e67a"
      },
      "execution_count": null,
      "outputs": [
        {
          "output_type": "stream",
          "name": "stdout",
          "text": [
            "Archive:  cyclone_ds.zip\n",
            "   creating: CYCLONE_DATASET_INFRARED/\n",
            "  inflating: CYCLONE_DATASET_INFRARED/63.jpg  \n",
            "  inflating: CYCLONE_DATASET_INFRARED/77.jpg  \n",
            "  inflating: CYCLONE_DATASET_INFRARED/85(2).jpg  \n",
            "  inflating: CYCLONE_DATASET_INFRARED/62.jpg  \n",
            "  inflating: CYCLONE_DATASET_INFRARED/74.jpg  \n",
            "  inflating: CYCLONE_DATASET_INFRARED/60.jpg  \n",
            "  inflating: CYCLONE_DATASET_INFRARED/48.jpg  \n",
            "  inflating: CYCLONE_DATASET_INFRARED/64(2).jpg  \n",
            "  inflating: CYCLONE_DATASET_INFRARED/42(3).jpg  \n",
            "  inflating: CYCLONE_DATASET_INFRARED/61(1).jpg  \n",
            "  inflating: CYCLONE_DATASET_INFRARED/57(1).jpg  \n",
            "  inflating: CYCLONE_DATASET_INFRARED/40(2).jpg  \n",
            "  inflating: CYCLONE_DATASET_INFRARED/49(1).jpg  \n",
            "  inflating: CYCLONE_DATASET_INFRARED/34(1).jpg  \n",
            "  inflating: CYCLONE_DATASET_INFRARED/45(1).jpg  \n",
            "  inflating: CYCLONE_DATASET_INFRARED/49.jpg  \n",
            "  inflating: CYCLONE_DATASET_INFRARED/61.jpg  \n",
            "  inflating: CYCLONE_DATASET_INFRARED/75.jpg  \n",
            "  inflating: CYCLONE_DATASET_INFRARED/74(2).jpg  \n",
            "  inflating: CYCLONE_DATASET_INFRARED/59.jpg  \n",
            "  inflating: CYCLONE_DATASET_INFRARED/65.jpg  \n",
            "  inflating: CYCLONE_DATASET_INFRARED/63(1).jpg  \n",
            "  inflating: CYCLONE_DATASET_INFRARED/40(3).jpg  \n",
            "  inflating: CYCLONE_DATASET_INFRARED/.DS_Store  \n",
            "  inflating: CYCLONE_DATASET_INFRARED/59(1).jpg  \n",
            "  inflating: CYCLONE_DATASET_INFRARED/50(2).jpg  \n",
            "  inflating: CYCLONE_DATASET_INFRARED/47(1).jpg  \n",
            "  inflating: CYCLONE_DATASET_INFRARED/33(2).jpg  \n",
            "  inflating: CYCLONE_DATASET_INFRARED/36(1).jpg  \n",
            "  inflating: CYCLONE_DATASET_INFRARED/64.jpg  \n",
            "  inflating: CYCLONE_DATASET_INFRARED/70.jpg  \n",
            "  inflating: CYCLONE_DATASET_INFRARED/58.jpg  \n",
            "  inflating: CYCLONE_DATASET_INFRARED/99.jpg  \n",
            "  inflating: CYCLONE_DATASET_INFRARED/82(1).jpg  \n",
            "  inflating: CYCLONE_DATASET_INFRARED/98.jpg  \n",
            "  inflating: CYCLONE_DATASET_INFRARED/73.jpg  \n",
            "  inflating: CYCLONE_DATASET_INFRARED/67.jpg  \n",
            "  inflating: CYCLONE_DATASET_INFRARED/28.jpg  \n",
            "  inflating: CYCLONE_DATASET_INFRARED/32(1).jpg  \n",
            "  inflating: CYCLONE_DATASET_INFRARED/101.jpg  \n",
            "  inflating: CYCLONE_DATASET_INFRARED/115.jpg  \n",
            "  inflating: CYCLONE_DATASET_INFRARED/51(1).jpg  \n",
            "  inflating: CYCLONE_DATASET_INFRARED/44(3).jpg  \n",
            "  inflating: CYCLONE_DATASET_INFRARED/128.jpg  \n",
            "  inflating: CYCLONE_DATASET_INFRARED/48(3).jpg  \n",
            "  inflating: CYCLONE_DATASET_INFRARED/67(1).jpg  \n",
            "  inflating: CYCLONE_DATASET_INFRARED/35(3).jpg  \n",
            "  inflating: CYCLONE_DATASET_INFRARED/102.jpg  \n",
            "  inflating: CYCLONE_DATASET_INFRARED/86(1).jpg  \n",
            "  inflating: CYCLONE_DATASET_INFRARED/84(1).jpg  \n",
            "  inflating: CYCLONE_DATASET_INFRARED/106.jpg  \n",
            "  inflating: CYCLONE_DATASET_INFRARED/112.jpg  \n",
            "  inflating: CYCLONE_DATASET_INFRARED/39.jpg  \n",
            "  inflating: CYCLONE_DATASET_INFRARED/35(2).jpg  \n",
            "  inflating: CYCLONE_DATASET_INFRARED/48(2).jpg  \n",
            "  inflating: CYCLONE_DATASET_INFRARED/53(1).jpg  \n",
            "  inflating: CYCLONE_DATASET_INFRARED/30(1).jpg  \n",
            "  inflating: CYCLONE_DATASET_INFRARED/44(2).jpg  \n",
            "  inflating: CYCLONE_DATASET_INFRARED/77(1).jpg  \n",
            "  inflating: CYCLONE_DATASET_INFRARED/111.jpg  \n",
            "  inflating: CYCLONE_DATASET_INFRARED/46(3).jpg  \n",
            "  inflating: CYCLONE_DATASET_INFRARED/69(1).jpg  \n",
            "  inflating: CYCLONE_DATASET_INFRARED/38.jpg  \n",
            "  inflating: CYCLONE_DATASET_INFRARED/60(2).jpg  \n",
            "  inflating: CYCLONE_DATASET_INFRARED/35(1).jpg  \n",
            "  inflating: CYCLONE_DATASET_INFRARED/35.jpg  \n",
            "  inflating: CYCLONE_DATASET_INFRARED/48(1).jpg  \n",
            "  inflating: CYCLONE_DATASET_INFRARED/53(2).jpg  \n",
            "  inflating: CYCLONE_DATASET_INFRARED/44(1).jpg  \n",
            "  inflating: CYCLONE_DATASET_INFRARED/65(2).jpg  \n",
            "  inflating: CYCLONE_DATASET_INFRARED/47(4).jpg  \n",
            "  inflating: CYCLONE_DATASET_INFRARED/60(1).jpg  \n",
            "  inflating: CYCLONE_DATASET_INFRARED/34.jpg  \n",
            "  inflating: CYCLONE_DATASET_INFRARED/36.jpg  \n",
            "  inflating: CYCLONE_DATASET_INFRARED/81(1).jpg  \n",
            "  inflating: CYCLONE_DATASET_INFRARED/37.jpg  \n",
            "  inflating: CYCLONE_DATASET_INFRARED/33.jpg  \n",
            "  inflating: CYCLONE_DATASET_INFRARED/27.jpg  \n",
            "  inflating: CYCLONE_DATASET_INFRARED/83(1).jpg  \n",
            "  inflating: CYCLONE_DATASET_INFRARED/86(2).jpg  \n",
            "  inflating: CYCLONE_DATASET_INFRARED/32.jpg  \n",
            "  inflating: CYCLONE_DATASET_INFRARED/30.jpg  \n",
            "  inflating: CYCLONE_DATASET_INFRARED/46(1).jpg  \n",
            "  inflating: CYCLONE_DATASET_INFRARED/119.jpg  \n",
            "  inflating: CYCLONE_DATASET_INFRARED/58(1).jpg  \n",
            "  inflating: CYCLONE_DATASET_INFRARED/65(3).jpg  \n",
            "  inflating: CYCLONE_DATASET_INFRARED/43(2).jpg  \n",
            "  inflating: CYCLONE_DATASET_INFRARED/53(3).jpg  \n",
            "  inflating: CYCLONE_DATASET_INFRARED/45(4).jpg  \n",
            "  inflating: CYCLONE_DATASET_INFRARED/118.jpg  \n",
            "  inflating: CYCLONE_DATASET_INFRARED/31.jpg  \n",
            "  inflating: CYCLONE_DATASET_INFRARED/25.jpg  \n",
            "  inflating: CYCLONE_DATASET_INFRARED/42.jpg  \n",
            "  inflating: CYCLONE_DATASET_INFRARED/56.jpg  \n",
            "  inflating: CYCLONE_DATASET_INFRARED/81.jpg  \n",
            "  inflating: CYCLONE_DATASET_INFRARED/94.jpg  \n",
            "  inflating: CYCLONE_DATASET_INFRARED/57.jpg  \n",
            "  inflating: CYCLONE_DATASET_INFRARED/43.jpg  \n",
            "  inflating: CYCLONE_DATASET_INFRARED/55.jpg  \n",
            "  inflating: CYCLONE_DATASET_INFRARED/41.jpg  \n",
            "  inflating: CYCLONE_DATASET_INFRARED/69.jpg  \n",
            "  inflating: CYCLONE_DATASET_INFRARED/74(1).jpg  \n",
            "  inflating: CYCLONE_DATASET_INFRARED/82.jpg  \n",
            "  inflating: CYCLONE_DATASET_INFRARED/63(2).jpg  \n",
            "  inflating: CYCLONE_DATASET_INFRARED/45(3).jpg  \n",
            "  inflating: CYCLONE_DATASET_INFRARED/50(1).jpg  \n",
            "  inflating: CYCLONE_DATASET_INFRARED/59(2).jpg  \n",
            "  inflating: CYCLONE_DATASET_INFRARED/47(2).jpg  \n",
            "  inflating: CYCLONE_DATASET_INFRARED/33(1).jpg  \n",
            "  inflating: CYCLONE_DATASET_INFRARED/36(2).jpg  \n",
            "  inflating: CYCLONE_DATASET_INFRARED/55(2).jpg  \n",
            "  inflating: CYCLONE_DATASET_INFRARED/68.jpg  \n",
            "  inflating: CYCLONE_DATASET_INFRARED/40.jpg  \n",
            "  inflating: CYCLONE_DATASET_INFRARED/54.jpg  \n",
            "  inflating: CYCLONE_DATASET_INFRARED/50.jpg  \n",
            "  inflating: CYCLONE_DATASET_INFRARED/44.jpg  \n",
            "  inflating: CYCLONE_DATASET_INFRARED/87.jpg  \n",
            "  inflating: CYCLONE_DATASET_INFRARED/64(1).jpg  \n",
            "  inflating: CYCLONE_DATASET_INFRARED/36(3).jpg  \n",
            "  inflating: CYCLONE_DATASET_INFRARED/61(2).jpg  \n",
            "  inflating: CYCLONE_DATASET_INFRARED/47(3).jpg  \n",
            "  inflating: CYCLONE_DATASET_INFRARED/59(3).jpg  \n",
            "  inflating: CYCLONE_DATASET_INFRARED/57(2).jpg  \n",
            "  inflating: CYCLONE_DATASET_INFRARED/49(2).jpg  \n",
            "  inflating: CYCLONE_DATASET_INFRARED/40(1).jpg  \n",
            "  inflating: CYCLONE_DATASET_INFRARED/45(2).jpg  \n",
            "  inflating: CYCLONE_DATASET_INFRARED/86.jpg  \n",
            "  inflating: CYCLONE_DATASET_INFRARED/52(1).jpg  \n",
            "  inflating: CYCLONE_DATASET_INFRARED/45.jpg  \n",
            "  inflating: CYCLONE_DATASET_INFRARED/51.jpg  \n",
            "  inflating: CYCLONE_DATASET_INFRARED/47.jpg  \n",
            "  inflating: CYCLONE_DATASET_INFRARED/53.jpg  \n",
            "  inflating: CYCLONE_DATASET_INFRARED/85(1).jpg  \n",
            "  inflating: CYCLONE_DATASET_INFRARED/84.jpg  \n",
            "  inflating: CYCLONE_DATASET_INFRARED/85.jpg  \n",
            "  inflating: CYCLONE_DATASET_INFRARED/52.jpg  \n",
            "  inflating: CYCLONE_DATASET_INFRARED/46.jpg  \n"
          ]
        }
      ]
    },
    {
      "cell_type": "code",
      "source": [
        "import pandas as pd\n",
        "pd.read_csv('Untitled spreadsheet - Sheet1 (1).csv')"
      ],
      "metadata": {
        "colab": {
          "base_uri": "https://localhost:8080/",
          "height": 2267
        },
        "id": "a6ZKW1F4zvGb",
        "outputId": "811189bf-6e95-4f43-fb62-2c637b0b141c"
      },
      "execution_count": null,
      "outputs": [
        {
          "output_type": "execute_result",
          "data": {
            "text/plain": [
              "      img_name  label\n",
              "0       25.jpg     25\n",
              "1       27.jpg     27\n",
              "2       28.jpg     28\n",
              "3       30.jpg     30\n",
              "4    30(1).jpg     30\n",
              "..         ...    ...\n",
              "131    112.jpg    112\n",
              "132    115.jpg    115\n",
              "133    118.jpg    118\n",
              "134    119.jpg    119\n",
              "135    128.jpg    128\n",
              "\n",
              "[136 rows x 2 columns]"
            ],
            "text/html": [
              "\n",
              "  <div id=\"df-bee0d4a1-80c2-48fd-a7ab-2fa06ee0a6bd\">\n",
              "    <div class=\"colab-df-container\">\n",
              "      <div>\n",
              "<style scoped>\n",
              "    .dataframe tbody tr th:only-of-type {\n",
              "        vertical-align: middle;\n",
              "    }\n",
              "\n",
              "    .dataframe tbody tr th {\n",
              "        vertical-align: top;\n",
              "    }\n",
              "\n",
              "    .dataframe thead th {\n",
              "        text-align: right;\n",
              "    }\n",
              "</style>\n",
              "<table border=\"1\" class=\"dataframe\">\n",
              "  <thead>\n",
              "    <tr style=\"text-align: right;\">\n",
              "      <th></th>\n",
              "      <th>img_name</th>\n",
              "      <th>label</th>\n",
              "    </tr>\n",
              "  </thead>\n",
              "  <tbody>\n",
              "    <tr>\n",
              "      <th>0</th>\n",
              "      <td>25.jpg</td>\n",
              "      <td>25</td>\n",
              "    </tr>\n",
              "    <tr>\n",
              "      <th>1</th>\n",
              "      <td>27.jpg</td>\n",
              "      <td>27</td>\n",
              "    </tr>\n",
              "    <tr>\n",
              "      <th>2</th>\n",
              "      <td>28.jpg</td>\n",
              "      <td>28</td>\n",
              "    </tr>\n",
              "    <tr>\n",
              "      <th>3</th>\n",
              "      <td>30.jpg</td>\n",
              "      <td>30</td>\n",
              "    </tr>\n",
              "    <tr>\n",
              "      <th>4</th>\n",
              "      <td>30(1).jpg</td>\n",
              "      <td>30</td>\n",
              "    </tr>\n",
              "    <tr>\n",
              "      <th>...</th>\n",
              "      <td>...</td>\n",
              "      <td>...</td>\n",
              "    </tr>\n",
              "    <tr>\n",
              "      <th>131</th>\n",
              "      <td>112.jpg</td>\n",
              "      <td>112</td>\n",
              "    </tr>\n",
              "    <tr>\n",
              "      <th>132</th>\n",
              "      <td>115.jpg</td>\n",
              "      <td>115</td>\n",
              "    </tr>\n",
              "    <tr>\n",
              "      <th>133</th>\n",
              "      <td>118.jpg</td>\n",
              "      <td>118</td>\n",
              "    </tr>\n",
              "    <tr>\n",
              "      <th>134</th>\n",
              "      <td>119.jpg</td>\n",
              "      <td>119</td>\n",
              "    </tr>\n",
              "    <tr>\n",
              "      <th>135</th>\n",
              "      <td>128.jpg</td>\n",
              "      <td>128</td>\n",
              "    </tr>\n",
              "  </tbody>\n",
              "</table>\n",
              "<p>136 rows × 2 columns</p>\n",
              "</div>\n",
              "      <button class=\"colab-df-convert\" onclick=\"convertToInteractive('df-bee0d4a1-80c2-48fd-a7ab-2fa06ee0a6bd')\"\n",
              "              title=\"Convert this dataframe to an interactive table.\"\n",
              "              style=\"display:none;\">\n",
              "        \n",
              "  <svg xmlns=\"http://www.w3.org/2000/svg\" height=\"24px\"viewBox=\"0 0 24 24\"\n",
              "       width=\"24px\">\n",
              "    <path d=\"M0 0h24v24H0V0z\" fill=\"none\"/>\n",
              "    <path d=\"M18.56 5.44l.94 2.06.94-2.06 2.06-.94-2.06-.94-.94-2.06-.94 2.06-2.06.94zm-11 1L8.5 8.5l.94-2.06 2.06-.94-2.06-.94L8.5 2.5l-.94 2.06-2.06.94zm10 10l.94 2.06.94-2.06 2.06-.94-2.06-.94-.94-2.06-.94 2.06-2.06.94z\"/><path d=\"M17.41 7.96l-1.37-1.37c-.4-.4-.92-.59-1.43-.59-.52 0-1.04.2-1.43.59L10.3 9.45l-7.72 7.72c-.78.78-.78 2.05 0 2.83L4 21.41c.39.39.9.59 1.41.59.51 0 1.02-.2 1.41-.59l7.78-7.78 2.81-2.81c.8-.78.8-2.07 0-2.86zM5.41 20L4 18.59l7.72-7.72 1.47 1.35L5.41 20z\"/>\n",
              "  </svg>\n",
              "      </button>\n",
              "      \n",
              "  <style>\n",
              "    .colab-df-container {\n",
              "      display:flex;\n",
              "      flex-wrap:wrap;\n",
              "      gap: 12px;\n",
              "    }\n",
              "\n",
              "    .colab-df-convert {\n",
              "      background-color: #E8F0FE;\n",
              "      border: none;\n",
              "      border-radius: 50%;\n",
              "      cursor: pointer;\n",
              "      display: none;\n",
              "      fill: #1967D2;\n",
              "      height: 32px;\n",
              "      padding: 0 0 0 0;\n",
              "      width: 32px;\n",
              "    }\n",
              "\n",
              "    .colab-df-convert:hover {\n",
              "      background-color: #E2EBFA;\n",
              "      box-shadow: 0px 1px 2px rgba(60, 64, 67, 0.3), 0px 1px 3px 1px rgba(60, 64, 67, 0.15);\n",
              "      fill: #174EA6;\n",
              "    }\n",
              "\n",
              "    [theme=dark] .colab-df-convert {\n",
              "      background-color: #3B4455;\n",
              "      fill: #D2E3FC;\n",
              "    }\n",
              "\n",
              "    [theme=dark] .colab-df-convert:hover {\n",
              "      background-color: #434B5C;\n",
              "      box-shadow: 0px 1px 3px 1px rgba(0, 0, 0, 0.15);\n",
              "      filter: drop-shadow(0px 1px 2px rgba(0, 0, 0, 0.3));\n",
              "      fill: #FFFFFF;\n",
              "    }\n",
              "  </style>\n",
              "\n",
              "      <script>\n",
              "        const buttonEl =\n",
              "          document.querySelector('#df-bee0d4a1-80c2-48fd-a7ab-2fa06ee0a6bd button.colab-df-convert');\n",
              "        buttonEl.style.display =\n",
              "          google.colab.kernel.accessAllowed ? 'block' : 'none';\n",
              "\n",
              "        async function convertToInteractive(key) {\n",
              "          const element = document.querySelector('#df-bee0d4a1-80c2-48fd-a7ab-2fa06ee0a6bd');\n",
              "          const dataTable =\n",
              "            await google.colab.kernel.invokeFunction('convertToInteractive',\n",
              "                                                     [key], {});\n",
              "          if (!dataTable) return;\n",
              "\n",
              "          const docLinkHtml = 'Like what you see? Visit the ' +\n",
              "            '<a target=\"_blank\" href=https://colab.research.google.com/notebooks/data_table.ipynb>data table notebook</a>'\n",
              "            + ' to learn more about interactive tables.';\n",
              "          element.innerHTML = '';\n",
              "          dataTable['output_type'] = 'display_data';\n",
              "          await google.colab.output.renderOutput(dataTable, element);\n",
              "          const docLink = document.createElement('div');\n",
              "          docLink.innerHTML = docLinkHtml;\n",
              "          element.appendChild(docLink);\n",
              "        }\n",
              "      </script>\n",
              "    </div>\n",
              "  </div>\n",
              "  "
            ]
          },
          "metadata": {},
          "execution_count": 4
        }
      ]
    },
    {
      "cell_type": "code",
      "source": [
        "TRAIN_DIR = '/content/CYCLONE_DATASET_INFRARED'\n",
        "ROOT_DIR = '/content'"
      ],
      "metadata": {
        "id": "DsOvCmiy1OOg"
      },
      "execution_count": null,
      "outputs": []
    },
    {
      "cell_type": "code",
      "source": [
        "def get_train_file_path(id):\n",
        "    return f\"{TRAIN_DIR}/{id}\"     "
      ],
      "metadata": {
        "id": "RT6DFctm1J1R"
      },
      "execution_count": null,
      "outputs": []
    },
    {
      "cell_type": "code",
      "source": [
        "df = pd.read_csv(f\"{ROOT_DIR}/Untitled spreadsheet - Sheet1 (1).csv\")\n",
        "df['file_path'] = df['img_name'].apply(get_train_file_path)"
      ],
      "metadata": {
        "id": "8s8GwUZW1Wte"
      },
      "execution_count": null,
      "outputs": []
    },
    {
      "cell_type": "code",
      "source": [
        "df"
      ],
      "metadata": {
        "colab": {
          "base_uri": "https://localhost:8080/",
          "height": 424
        },
        "id": "E62LkLyA1qLl",
        "outputId": "5b5d7834-c8da-4901-d15b-763f924f8382"
      },
      "execution_count": null,
      "outputs": [
        {
          "output_type": "execute_result",
          "data": {
            "text/plain": [
              "      img_name  label                                    file_path\n",
              "0       25.jpg     25     /content/CYCLONE_DATASET_INFRARED/25.jpg\n",
              "1       27.jpg     27     /content/CYCLONE_DATASET_INFRARED/27.jpg\n",
              "2       28.jpg     28     /content/CYCLONE_DATASET_INFRARED/28.jpg\n",
              "3       30.jpg     30     /content/CYCLONE_DATASET_INFRARED/30.jpg\n",
              "4    30(1).jpg     30  /content/CYCLONE_DATASET_INFRARED/30(1).jpg\n",
              "..         ...    ...                                          ...\n",
              "131    112.jpg    112    /content/CYCLONE_DATASET_INFRARED/112.jpg\n",
              "132    115.jpg    115    /content/CYCLONE_DATASET_INFRARED/115.jpg\n",
              "133    118.jpg    118    /content/CYCLONE_DATASET_INFRARED/118.jpg\n",
              "134    119.jpg    119    /content/CYCLONE_DATASET_INFRARED/119.jpg\n",
              "135    128.jpg    128    /content/CYCLONE_DATASET_INFRARED/128.jpg\n",
              "\n",
              "[136 rows x 3 columns]"
            ],
            "text/html": [
              "\n",
              "  <div id=\"df-6597d331-c1c6-4669-8253-34c15c31f700\">\n",
              "    <div class=\"colab-df-container\">\n",
              "      <div>\n",
              "<style scoped>\n",
              "    .dataframe tbody tr th:only-of-type {\n",
              "        vertical-align: middle;\n",
              "    }\n",
              "\n",
              "    .dataframe tbody tr th {\n",
              "        vertical-align: top;\n",
              "    }\n",
              "\n",
              "    .dataframe thead th {\n",
              "        text-align: right;\n",
              "    }\n",
              "</style>\n",
              "<table border=\"1\" class=\"dataframe\">\n",
              "  <thead>\n",
              "    <tr style=\"text-align: right;\">\n",
              "      <th></th>\n",
              "      <th>img_name</th>\n",
              "      <th>label</th>\n",
              "      <th>file_path</th>\n",
              "    </tr>\n",
              "  </thead>\n",
              "  <tbody>\n",
              "    <tr>\n",
              "      <th>0</th>\n",
              "      <td>25.jpg</td>\n",
              "      <td>25</td>\n",
              "      <td>/content/CYCLONE_DATASET_INFRARED/25.jpg</td>\n",
              "    </tr>\n",
              "    <tr>\n",
              "      <th>1</th>\n",
              "      <td>27.jpg</td>\n",
              "      <td>27</td>\n",
              "      <td>/content/CYCLONE_DATASET_INFRARED/27.jpg</td>\n",
              "    </tr>\n",
              "    <tr>\n",
              "      <th>2</th>\n",
              "      <td>28.jpg</td>\n",
              "      <td>28</td>\n",
              "      <td>/content/CYCLONE_DATASET_INFRARED/28.jpg</td>\n",
              "    </tr>\n",
              "    <tr>\n",
              "      <th>3</th>\n",
              "      <td>30.jpg</td>\n",
              "      <td>30</td>\n",
              "      <td>/content/CYCLONE_DATASET_INFRARED/30.jpg</td>\n",
              "    </tr>\n",
              "    <tr>\n",
              "      <th>4</th>\n",
              "      <td>30(1).jpg</td>\n",
              "      <td>30</td>\n",
              "      <td>/content/CYCLONE_DATASET_INFRARED/30(1).jpg</td>\n",
              "    </tr>\n",
              "    <tr>\n",
              "      <th>...</th>\n",
              "      <td>...</td>\n",
              "      <td>...</td>\n",
              "      <td>...</td>\n",
              "    </tr>\n",
              "    <tr>\n",
              "      <th>131</th>\n",
              "      <td>112.jpg</td>\n",
              "      <td>112</td>\n",
              "      <td>/content/CYCLONE_DATASET_INFRARED/112.jpg</td>\n",
              "    </tr>\n",
              "    <tr>\n",
              "      <th>132</th>\n",
              "      <td>115.jpg</td>\n",
              "      <td>115</td>\n",
              "      <td>/content/CYCLONE_DATASET_INFRARED/115.jpg</td>\n",
              "    </tr>\n",
              "    <tr>\n",
              "      <th>133</th>\n",
              "      <td>118.jpg</td>\n",
              "      <td>118</td>\n",
              "      <td>/content/CYCLONE_DATASET_INFRARED/118.jpg</td>\n",
              "    </tr>\n",
              "    <tr>\n",
              "      <th>134</th>\n",
              "      <td>119.jpg</td>\n",
              "      <td>119</td>\n",
              "      <td>/content/CYCLONE_DATASET_INFRARED/119.jpg</td>\n",
              "    </tr>\n",
              "    <tr>\n",
              "      <th>135</th>\n",
              "      <td>128.jpg</td>\n",
              "      <td>128</td>\n",
              "      <td>/content/CYCLONE_DATASET_INFRARED/128.jpg</td>\n",
              "    </tr>\n",
              "  </tbody>\n",
              "</table>\n",
              "<p>136 rows × 3 columns</p>\n",
              "</div>\n",
              "      <button class=\"colab-df-convert\" onclick=\"convertToInteractive('df-6597d331-c1c6-4669-8253-34c15c31f700')\"\n",
              "              title=\"Convert this dataframe to an interactive table.\"\n",
              "              style=\"display:none;\">\n",
              "        \n",
              "  <svg xmlns=\"http://www.w3.org/2000/svg\" height=\"24px\"viewBox=\"0 0 24 24\"\n",
              "       width=\"24px\">\n",
              "    <path d=\"M0 0h24v24H0V0z\" fill=\"none\"/>\n",
              "    <path d=\"M18.56 5.44l.94 2.06.94-2.06 2.06-.94-2.06-.94-.94-2.06-.94 2.06-2.06.94zm-11 1L8.5 8.5l.94-2.06 2.06-.94-2.06-.94L8.5 2.5l-.94 2.06-2.06.94zm10 10l.94 2.06.94-2.06 2.06-.94-2.06-.94-.94-2.06-.94 2.06-2.06.94z\"/><path d=\"M17.41 7.96l-1.37-1.37c-.4-.4-.92-.59-1.43-.59-.52 0-1.04.2-1.43.59L10.3 9.45l-7.72 7.72c-.78.78-.78 2.05 0 2.83L4 21.41c.39.39.9.59 1.41.59.51 0 1.02-.2 1.41-.59l7.78-7.78 2.81-2.81c.8-.78.8-2.07 0-2.86zM5.41 20L4 18.59l7.72-7.72 1.47 1.35L5.41 20z\"/>\n",
              "  </svg>\n",
              "      </button>\n",
              "      \n",
              "  <style>\n",
              "    .colab-df-container {\n",
              "      display:flex;\n",
              "      flex-wrap:wrap;\n",
              "      gap: 12px;\n",
              "    }\n",
              "\n",
              "    .colab-df-convert {\n",
              "      background-color: #E8F0FE;\n",
              "      border: none;\n",
              "      border-radius: 50%;\n",
              "      cursor: pointer;\n",
              "      display: none;\n",
              "      fill: #1967D2;\n",
              "      height: 32px;\n",
              "      padding: 0 0 0 0;\n",
              "      width: 32px;\n",
              "    }\n",
              "\n",
              "    .colab-df-convert:hover {\n",
              "      background-color: #E2EBFA;\n",
              "      box-shadow: 0px 1px 2px rgba(60, 64, 67, 0.3), 0px 1px 3px 1px rgba(60, 64, 67, 0.15);\n",
              "      fill: #174EA6;\n",
              "    }\n",
              "\n",
              "    [theme=dark] .colab-df-convert {\n",
              "      background-color: #3B4455;\n",
              "      fill: #D2E3FC;\n",
              "    }\n",
              "\n",
              "    [theme=dark] .colab-df-convert:hover {\n",
              "      background-color: #434B5C;\n",
              "      box-shadow: 0px 1px 3px 1px rgba(0, 0, 0, 0.15);\n",
              "      filter: drop-shadow(0px 1px 2px rgba(0, 0, 0, 0.3));\n",
              "      fill: #FFFFFF;\n",
              "    }\n",
              "  </style>\n",
              "\n",
              "      <script>\n",
              "        const buttonEl =\n",
              "          document.querySelector('#df-6597d331-c1c6-4669-8253-34c15c31f700 button.colab-df-convert');\n",
              "        buttonEl.style.display =\n",
              "          google.colab.kernel.accessAllowed ? 'block' : 'none';\n",
              "\n",
              "        async function convertToInteractive(key) {\n",
              "          const element = document.querySelector('#df-6597d331-c1c6-4669-8253-34c15c31f700');\n",
              "          const dataTable =\n",
              "            await google.colab.kernel.invokeFunction('convertToInteractive',\n",
              "                                                     [key], {});\n",
              "          if (!dataTable) return;\n",
              "\n",
              "          const docLinkHtml = 'Like what you see? Visit the ' +\n",
              "            '<a target=\"_blank\" href=https://colab.research.google.com/notebooks/data_table.ipynb>data table notebook</a>'\n",
              "            + ' to learn more about interactive tables.';\n",
              "          element.innerHTML = '';\n",
              "          dataTable['output_type'] = 'display_data';\n",
              "          await google.colab.output.renderOutput(dataTable, element);\n",
              "          const docLink = document.createElement('div');\n",
              "          docLink.innerHTML = docLinkHtml;\n",
              "          element.appendChild(docLink);\n",
              "        }\n",
              "      </script>\n",
              "    </div>\n",
              "  </div>\n",
              "  "
            ]
          },
          "metadata": {},
          "execution_count": 85
        }
      ]
    },
    {
      "cell_type": "code",
      "source": [
        "df = df.drop([df.index[32] , df.index[116], df.index[124]])"
      ],
      "metadata": {
        "id": "uvZ9YtDktD_I"
      },
      "execution_count": null,
      "outputs": []
    },
    {
      "cell_type": "code",
      "source": [
        "df"
      ],
      "metadata": {
        "colab": {
          "base_uri": "https://localhost:8080/",
          "height": 424
        },
        "id": "EYN4anakuC_A",
        "outputId": "5bf1b7a6-bf51-4f80-f6bb-7594d853a9db"
      },
      "execution_count": null,
      "outputs": [
        {
          "output_type": "execute_result",
          "data": {
            "text/plain": [
              "      img_name  label                                    file_path\n",
              "0       25.jpg     25     /content/CYCLONE_DATASET_INFRARED/25.jpg\n",
              "1       27.jpg     27     /content/CYCLONE_DATASET_INFRARED/27.jpg\n",
              "2       28.jpg     28     /content/CYCLONE_DATASET_INFRARED/28.jpg\n",
              "3       30.jpg     30     /content/CYCLONE_DATASET_INFRARED/30.jpg\n",
              "4    30(1).jpg     30  /content/CYCLONE_DATASET_INFRARED/30(1).jpg\n",
              "..         ...    ...                                          ...\n",
              "131    112.jpg    112    /content/CYCLONE_DATASET_INFRARED/112.jpg\n",
              "132    115.jpg    115    /content/CYCLONE_DATASET_INFRARED/115.jpg\n",
              "133    118.jpg    118    /content/CYCLONE_DATASET_INFRARED/118.jpg\n",
              "134    119.jpg    119    /content/CYCLONE_DATASET_INFRARED/119.jpg\n",
              "135    128.jpg    128    /content/CYCLONE_DATASET_INFRARED/128.jpg\n",
              "\n",
              "[133 rows x 3 columns]"
            ],
            "text/html": [
              "\n",
              "  <div id=\"df-5b543211-1999-4052-aaab-dd1d39fedc5c\">\n",
              "    <div class=\"colab-df-container\">\n",
              "      <div>\n",
              "<style scoped>\n",
              "    .dataframe tbody tr th:only-of-type {\n",
              "        vertical-align: middle;\n",
              "    }\n",
              "\n",
              "    .dataframe tbody tr th {\n",
              "        vertical-align: top;\n",
              "    }\n",
              "\n",
              "    .dataframe thead th {\n",
              "        text-align: right;\n",
              "    }\n",
              "</style>\n",
              "<table border=\"1\" class=\"dataframe\">\n",
              "  <thead>\n",
              "    <tr style=\"text-align: right;\">\n",
              "      <th></th>\n",
              "      <th>img_name</th>\n",
              "      <th>label</th>\n",
              "      <th>file_path</th>\n",
              "    </tr>\n",
              "  </thead>\n",
              "  <tbody>\n",
              "    <tr>\n",
              "      <th>0</th>\n",
              "      <td>25.jpg</td>\n",
              "      <td>25</td>\n",
              "      <td>/content/CYCLONE_DATASET_INFRARED/25.jpg</td>\n",
              "    </tr>\n",
              "    <tr>\n",
              "      <th>1</th>\n",
              "      <td>27.jpg</td>\n",
              "      <td>27</td>\n",
              "      <td>/content/CYCLONE_DATASET_INFRARED/27.jpg</td>\n",
              "    </tr>\n",
              "    <tr>\n",
              "      <th>2</th>\n",
              "      <td>28.jpg</td>\n",
              "      <td>28</td>\n",
              "      <td>/content/CYCLONE_DATASET_INFRARED/28.jpg</td>\n",
              "    </tr>\n",
              "    <tr>\n",
              "      <th>3</th>\n",
              "      <td>30.jpg</td>\n",
              "      <td>30</td>\n",
              "      <td>/content/CYCLONE_DATASET_INFRARED/30.jpg</td>\n",
              "    </tr>\n",
              "    <tr>\n",
              "      <th>4</th>\n",
              "      <td>30(1).jpg</td>\n",
              "      <td>30</td>\n",
              "      <td>/content/CYCLONE_DATASET_INFRARED/30(1).jpg</td>\n",
              "    </tr>\n",
              "    <tr>\n",
              "      <th>...</th>\n",
              "      <td>...</td>\n",
              "      <td>...</td>\n",
              "      <td>...</td>\n",
              "    </tr>\n",
              "    <tr>\n",
              "      <th>131</th>\n",
              "      <td>112.jpg</td>\n",
              "      <td>112</td>\n",
              "      <td>/content/CYCLONE_DATASET_INFRARED/112.jpg</td>\n",
              "    </tr>\n",
              "    <tr>\n",
              "      <th>132</th>\n",
              "      <td>115.jpg</td>\n",
              "      <td>115</td>\n",
              "      <td>/content/CYCLONE_DATASET_INFRARED/115.jpg</td>\n",
              "    </tr>\n",
              "    <tr>\n",
              "      <th>133</th>\n",
              "      <td>118.jpg</td>\n",
              "      <td>118</td>\n",
              "      <td>/content/CYCLONE_DATASET_INFRARED/118.jpg</td>\n",
              "    </tr>\n",
              "    <tr>\n",
              "      <th>134</th>\n",
              "      <td>119.jpg</td>\n",
              "      <td>119</td>\n",
              "      <td>/content/CYCLONE_DATASET_INFRARED/119.jpg</td>\n",
              "    </tr>\n",
              "    <tr>\n",
              "      <th>135</th>\n",
              "      <td>128.jpg</td>\n",
              "      <td>128</td>\n",
              "      <td>/content/CYCLONE_DATASET_INFRARED/128.jpg</td>\n",
              "    </tr>\n",
              "  </tbody>\n",
              "</table>\n",
              "<p>133 rows × 3 columns</p>\n",
              "</div>\n",
              "      <button class=\"colab-df-convert\" onclick=\"convertToInteractive('df-5b543211-1999-4052-aaab-dd1d39fedc5c')\"\n",
              "              title=\"Convert this dataframe to an interactive table.\"\n",
              "              style=\"display:none;\">\n",
              "        \n",
              "  <svg xmlns=\"http://www.w3.org/2000/svg\" height=\"24px\"viewBox=\"0 0 24 24\"\n",
              "       width=\"24px\">\n",
              "    <path d=\"M0 0h24v24H0V0z\" fill=\"none\"/>\n",
              "    <path d=\"M18.56 5.44l.94 2.06.94-2.06 2.06-.94-2.06-.94-.94-2.06-.94 2.06-2.06.94zm-11 1L8.5 8.5l.94-2.06 2.06-.94-2.06-.94L8.5 2.5l-.94 2.06-2.06.94zm10 10l.94 2.06.94-2.06 2.06-.94-2.06-.94-.94-2.06-.94 2.06-2.06.94z\"/><path d=\"M17.41 7.96l-1.37-1.37c-.4-.4-.92-.59-1.43-.59-.52 0-1.04.2-1.43.59L10.3 9.45l-7.72 7.72c-.78.78-.78 2.05 0 2.83L4 21.41c.39.39.9.59 1.41.59.51 0 1.02-.2 1.41-.59l7.78-7.78 2.81-2.81c.8-.78.8-2.07 0-2.86zM5.41 20L4 18.59l7.72-7.72 1.47 1.35L5.41 20z\"/>\n",
              "  </svg>\n",
              "      </button>\n",
              "      \n",
              "  <style>\n",
              "    .colab-df-container {\n",
              "      display:flex;\n",
              "      flex-wrap:wrap;\n",
              "      gap: 12px;\n",
              "    }\n",
              "\n",
              "    .colab-df-convert {\n",
              "      background-color: #E8F0FE;\n",
              "      border: none;\n",
              "      border-radius: 50%;\n",
              "      cursor: pointer;\n",
              "      display: none;\n",
              "      fill: #1967D2;\n",
              "      height: 32px;\n",
              "      padding: 0 0 0 0;\n",
              "      width: 32px;\n",
              "    }\n",
              "\n",
              "    .colab-df-convert:hover {\n",
              "      background-color: #E2EBFA;\n",
              "      box-shadow: 0px 1px 2px rgba(60, 64, 67, 0.3), 0px 1px 3px 1px rgba(60, 64, 67, 0.15);\n",
              "      fill: #174EA6;\n",
              "    }\n",
              "\n",
              "    [theme=dark] .colab-df-convert {\n",
              "      background-color: #3B4455;\n",
              "      fill: #D2E3FC;\n",
              "    }\n",
              "\n",
              "    [theme=dark] .colab-df-convert:hover {\n",
              "      background-color: #434B5C;\n",
              "      box-shadow: 0px 1px 3px 1px rgba(0, 0, 0, 0.15);\n",
              "      filter: drop-shadow(0px 1px 2px rgba(0, 0, 0, 0.3));\n",
              "      fill: #FFFFFF;\n",
              "    }\n",
              "  </style>\n",
              "\n",
              "      <script>\n",
              "        const buttonEl =\n",
              "          document.querySelector('#df-5b543211-1999-4052-aaab-dd1d39fedc5c button.colab-df-convert');\n",
              "        buttonEl.style.display =\n",
              "          google.colab.kernel.accessAllowed ? 'block' : 'none';\n",
              "\n",
              "        async function convertToInteractive(key) {\n",
              "          const element = document.querySelector('#df-5b543211-1999-4052-aaab-dd1d39fedc5c');\n",
              "          const dataTable =\n",
              "            await google.colab.kernel.invokeFunction('convertToInteractive',\n",
              "                                                     [key], {});\n",
              "          if (!dataTable) return;\n",
              "\n",
              "          const docLinkHtml = 'Like what you see? Visit the ' +\n",
              "            '<a target=\"_blank\" href=https://colab.research.google.com/notebooks/data_table.ipynb>data table notebook</a>'\n",
              "            + ' to learn more about interactive tables.';\n",
              "          element.innerHTML = '';\n",
              "          dataTable['output_type'] = 'display_data';\n",
              "          await google.colab.output.renderOutput(dataTable, element);\n",
              "          const docLink = document.createElement('div');\n",
              "          docLink.innerHTML = docLinkHtml;\n",
              "          element.appendChild(docLink);\n",
              "        }\n",
              "      </script>\n",
              "    </div>\n",
              "  </div>\n",
              "  "
            ]
          },
          "metadata": {},
          "execution_count": 87
        }
      ]
    },
    {
      "cell_type": "code",
      "source": [
        "df.keys"
      ],
      "metadata": {
        "colab": {
          "base_uri": "https://localhost:8080/"
        },
        "id": "SV25DzpB8vqp",
        "outputId": "bcca1cea-6319-4a1b-d259-0262c917d69e"
      },
      "execution_count": null,
      "outputs": [
        {
          "output_type": "execute_result",
          "data": {
            "text/plain": [
              "<bound method NDFrame.keys of       img_name  label                                    file_path\n",
              "0       25.jpg     25     /content/CYCLONE_DATASET_INFRARED/25.jpg\n",
              "1       27.jpg     27     /content/CYCLONE_DATASET_INFRARED/27.jpg\n",
              "2       28.jpg     28     /content/CYCLONE_DATASET_INFRARED/28.jpg\n",
              "3       30.jpg     30     /content/CYCLONE_DATASET_INFRARED/30.jpg\n",
              "4    30(1).jpg     30  /content/CYCLONE_DATASET_INFRARED/30(1).jpg\n",
              "..         ...    ...                                          ...\n",
              "131    112.jpg    112    /content/CYCLONE_DATASET_INFRARED/112.jpg\n",
              "132    115.jpg    115    /content/CYCLONE_DATASET_INFRARED/115.jpg\n",
              "133    118.jpg    118    /content/CYCLONE_DATASET_INFRARED/118.jpg\n",
              "134    119.jpg    119    /content/CYCLONE_DATASET_INFRARED/119.jpg\n",
              "135    128.jpg    128    /content/CYCLONE_DATASET_INFRARED/128.jpg\n",
              "\n",
              "[133 rows x 3 columns]>"
            ]
          },
          "metadata": {},
          "execution_count": 88
        }
      ]
    },
    {
      "cell_type": "code",
      "source": [
        "df.index"
      ],
      "metadata": {
        "colab": {
          "base_uri": "https://localhost:8080/"
        },
        "id": "JodM8I5qB6cT",
        "outputId": "e6d51fd5-22d2-486f-fe8e-a2c35ac0e8f4"
      },
      "execution_count": null,
      "outputs": [
        {
          "output_type": "execute_result",
          "data": {
            "text/plain": [
              "Int64Index([  0,   1,   2,   3,   4,   5,   6,   7,   8,   9,\n",
              "            ...\n",
              "            126, 127, 128, 129, 130, 131, 132, 133, 134, 135],\n",
              "           dtype='int64', length=133)"
            ]
          },
          "metadata": {},
          "execution_count": 89
        }
      ]
    },
    {
      "cell_type": "code",
      "source": [
        "class CycloneDataset(Dataset):\n",
        "  def __init__(self, df, transforms=None):\n",
        "    self.df = df\n",
        "    self.file_names = df['file_path'].values\n",
        "    self.labels = df['label'].values\n",
        "    self.transforms = transforms\n",
        "        \n",
        "  def __len__(self):\n",
        "    return len(self.df)\n",
        "\n",
        "#transforms.compose reminder\n",
        " \n",
        "  def __getitem__(self, index):\n",
        "    img_path = self.file_names[index]\n",
        "    img = cv2.imread(img_path)\n",
        "    img = np.array(img)\n",
        "    totensor = transforms.ToTensor()\n",
        "    img = totensor(img)\n",
        "    resize = transforms.Resize(size=(250, 250))\n",
        "    img = resize(img)\n",
        "    flip = transforms.RandomHorizontalFlip(p = 0.5)\n",
        "    img = flip(img)\n",
        "    label = self.labels[index]\n",
        "        \n",
        "    if self.transforms:\n",
        "      img = self.transforms(image=img)[\"image\"]\n",
        "            \n",
        "    return img, torch.tensor(label, dtype=torch.long).float()"
      ],
      "metadata": {
        "id": "wgwuDdktch5U"
      },
      "execution_count": null,
      "outputs": []
    },
    {
      "cell_type": "code",
      "source": [
        "dataset = CycloneDataset(df)"
      ],
      "metadata": {
        "id": "gSvtudSr7IBP"
      },
      "execution_count": null,
      "outputs": []
    },
    {
      "cell_type": "code",
      "source": [
        "dataset"
      ],
      "metadata": {
        "colab": {
          "base_uri": "https://localhost:8080/"
        },
        "id": "8ncFcz9x7OVo",
        "outputId": "22709a0a-1018-434a-cece-af0bee74889d"
      },
      "execution_count": null,
      "outputs": [
        {
          "output_type": "execute_result",
          "data": {
            "text/plain": [
              "<__main__.CycloneDataset at 0x7fba668ad510>"
            ]
          },
          "metadata": {},
          "execution_count": 93
        }
      ]
    },
    {
      "cell_type": "code",
      "source": [
        "dataset = CycloneDataset(df)\n",
        "data_loader = DataLoader(dataset, batch_size=4, shuffle=True)"
      ],
      "metadata": {
        "id": "bUKqIRpM-dgw"
      },
      "execution_count": null,
      "outputs": []
    },
    {
      "cell_type": "code",
      "source": [
        "data_loader"
      ],
      "metadata": {
        "colab": {
          "base_uri": "https://localhost:8080/"
        },
        "id": "rHgdV8jT-4Vc",
        "outputId": "8493f08c-97e0-4157-a29f-aa1bf290eeac"
      },
      "execution_count": null,
      "outputs": [
        {
          "output_type": "execute_result",
          "data": {
            "text/plain": [
              "<torch.utils.data.dataloader.DataLoader at 0x7fba671bd950>"
            ]
          },
          "metadata": {},
          "execution_count": 95
        }
      ]
    },
    {
      "cell_type": "code",
      "source": [
        "import numpy as np"
      ],
      "metadata": {
        "id": "LKXHENbuNtbs"
      },
      "execution_count": null,
      "outputs": []
    },
    {
      "cell_type": "code",
      "source": [
        "# for view_img, view_label in data_loader:\n",
        "#   print(view_img, view_label)"
      ],
      "metadata": {
        "id": "ejOPe1mtKgHD"
      },
      "execution_count": null,
      "outputs": []
    },
    {
      "cell_type": "code",
      "source": [
        "dataset[131]"
      ],
      "metadata": {
        "colab": {
          "base_uri": "https://localhost:8080/"
        },
        "id": "NnruwSQLptIH",
        "outputId": "e752cda8-8f0c-47e3-f16f-87487de511f7"
      },
      "execution_count": null,
      "outputs": [
        {
          "output_type": "execute_result",
          "data": {
            "text/plain": [
              "(tensor([[[0.0586, 0.0919, 0.0937,  ..., 0.3122, 0.3959, 0.6549],\n",
              "          [0.0615, 0.0888, 0.0908,  ..., 0.3367, 0.4274, 0.6604],\n",
              "          [0.0699, 0.0814, 0.0817,  ..., 0.3306, 0.4435, 0.6610],\n",
              "          ...,\n",
              "          [0.2446, 0.2799, 0.2681,  ..., 0.2422, 0.3200, 0.6517],\n",
              "          [0.2574, 0.2914, 0.2837,  ..., 0.1351, 0.1860, 0.6763],\n",
              "          [0.2032, 0.2301, 0.2356,  ..., 0.2539, 0.2850, 0.7164]],\n",
              " \n",
              "         [[0.1048, 0.1336, 0.1325,  ..., 0.9440, 0.8998, 0.9758],\n",
              "          [0.1021, 0.1269, 0.1247,  ..., 0.9553, 0.9186, 0.9782],\n",
              "          [0.1091, 0.1183, 0.1137,  ..., 0.9339, 0.9187, 0.9776],\n",
              "          ...,\n",
              "          [0.6178, 0.6697, 0.6799,  ..., 0.5661, 0.6001, 0.8764],\n",
              "          [0.6741, 0.7248, 0.7418,  ..., 0.3501, 0.3707, 0.8158],\n",
              "          [0.6455, 0.6923, 0.7242,  ..., 0.4144, 0.4178, 0.8015]],\n",
              " \n",
              "         [[0.5457, 0.5861, 0.5963,  ..., 0.9360, 0.8880, 0.9719],\n",
              "          [0.5593, 0.5917, 0.6009,  ..., 0.9692, 0.9330, 0.9784],\n",
              "          [0.5715, 0.5879, 0.5945,  ..., 0.9843, 0.9581, 0.9829],\n",
              "          ...,\n",
              "          [0.9289, 0.9695, 0.9687,  ..., 0.9176, 0.8556, 0.9530],\n",
              "          [0.9192, 0.9555, 0.9616,  ..., 0.8123, 0.7230, 0.9299],\n",
              "          [0.8441, 0.8786, 0.8999,  ..., 0.9201, 0.8169, 0.9404]]]),\n",
              " tensor(119.))"
            ]
          },
          "metadata": {},
          "execution_count": 98
        }
      ]
    },
    {
      "cell_type": "code",
      "source": [
        "#print a random image from the dataset\n",
        "import random\n",
        "i = random.randint(0, 132)\n",
        "# x = dataset[i][\"image\"]\n",
        "# y = dataset[i][\"label\"]\n",
        "# size = dataset[i][\"image\"].shape\n",
        "img, label = dataset[i]\n",
        "size = img.shape\n",
        "print(f\"INTENSITY: {label} KNOTS\")\n",
        "print(f\"SIZE: {size}\\n\")\n",
        "plt.imshow(img.permute(1, 2, 0))\n",
        "plt.show()"
      ],
      "metadata": {
        "colab": {
          "base_uri": "https://localhost:8080/",
          "height": 321
        },
        "id": "g6WTONp_nZ0m",
        "outputId": "035054f9-2c47-4f3e-c7db-fb3f51094c0b"
      },
      "execution_count": null,
      "outputs": [
        {
          "output_type": "stream",
          "name": "stdout",
          "text": [
            "INTENSITY: 40.0 KNOTS\n",
            "SIZE: torch.Size([3, 250, 250])\n",
            "\n"
          ]
        },
        {
          "output_type": "display_data",
          "data": {
            "text/plain": [
              "<Figure size 432x288 with 1 Axes>"
            ],
            "image/png": "[encoded data removed]"
          },
          "metadata": {
            "needs_background": "light"
          }
        }
      ]
    },
    {
      "cell_type": "code",
      "source": [
        "for i in range(132):\n",
        "  x, y = dataset[i]\n",
        "  # x = dataset[i][\"image\"]\n",
        "  print(x.shape)"
      ],
      "metadata": {
        "colab": {
          "base_uri": "https://localhost:8080/"
        },
        "id": "kVgAvXfNwAwo",
        "outputId": "cf8ece68-f9ea-41a1-b0a3-aa989286891e"
      },
      "execution_count": null,
      "outputs": [
        {
          "output_type": "stream",
          "name": "stdout",
          "text": [
            "torch.Size([3, 250, 250])\n",
            "torch.Size([3, 250, 250])\n",
            "torch.Size([3, 250, 250])\n",
            "torch.Size([3, 250, 250])\n",
            "torch.Size([3, 250, 250])\n",
            "torch.Size([3, 250, 250])\n",
            "torch.Size([3, 250, 250])\n",
            "torch.Size([3, 250, 250])\n",
            "torch.Size([3, 250, 250])\n",
            "torch.Size([3, 250, 250])\n",
            "torch.Size([3, 250, 250])\n",
            "torch.Size([3, 250, 250])\n",
            "torch.Size([3, 250, 250])\n",
            "torch.Size([3, 250, 250])\n",
            "torch.Size([3, 250, 250])\n",
            "torch.Size([3, 250, 250])\n",
            "torch.Size([3, 250, 250])\n",
            "torch.Size([3, 250, 250])\n",
            "torch.Size([3, 250, 250])\n",
            "torch.Size([3, 250, 250])\n",
            "torch.Size([3, 250, 250])\n",
            "torch.Size([3, 250, 250])\n",
            "torch.Size([3, 250, 250])\n",
            "torch.Size([3, 250, 250])\n",
            "torch.Size([3, 250, 250])\n",
            "torch.Size([3, 250, 250])\n",
            "torch.Size([3, 250, 250])\n",
            "torch.Size([3, 250, 250])\n",
            "torch.Size([3, 250, 250])\n",
            "torch.Size([3, 250, 250])\n",
            "torch.Size([3, 250, 250])\n",
            "torch.Size([3, 250, 250])\n",
            "torch.Size([3, 250, 250])\n",
            "torch.Size([3, 250, 250])\n",
            "torch.Size([3, 250, 250])\n",
            "torch.Size([3, 250, 250])\n",
            "torch.Size([3, 250, 250])\n",
            "torch.Size([3, 250, 250])\n",
            "torch.Size([3, 250, 250])\n",
            "torch.Size([3, 250, 250])\n",
            "torch.Size([3, 250, 250])\n",
            "torch.Size([3, 250, 250])\n",
            "torch.Size([3, 250, 250])\n",
            "torch.Size([3, 250, 250])\n",
            "torch.Size([3, 250, 250])\n",
            "torch.Size([3, 250, 250])\n",
            "torch.Size([3, 250, 250])\n",
            "torch.Size([3, 250, 250])\n",
            "torch.Size([3, 250, 250])\n",
            "torch.Size([3, 250, 250])\n",
            "torch.Size([3, 250, 250])\n",
            "torch.Size([3, 250, 250])\n",
            "torch.Size([3, 250, 250])\n",
            "torch.Size([3, 250, 250])\n",
            "torch.Size([3, 250, 250])\n",
            "torch.Size([3, 250, 250])\n",
            "torch.Size([3, 250, 250])\n",
            "torch.Size([3, 250, 250])\n",
            "torch.Size([3, 250, 250])\n",
            "torch.Size([3, 250, 250])\n",
            "torch.Size([3, 250, 250])\n",
            "torch.Size([3, 250, 250])\n",
            "torch.Size([3, 250, 250])\n",
            "torch.Size([3, 250, 250])\n",
            "torch.Size([3, 250, 250])\n",
            "torch.Size([3, 250, 250])\n",
            "torch.Size([3, 250, 250])\n",
            "torch.Size([3, 250, 250])\n",
            "torch.Size([3, 250, 250])\n",
            "torch.Size([3, 250, 250])\n",
            "torch.Size([3, 250, 250])\n",
            "torch.Size([3, 250, 250])\n",
            "torch.Size([3, 250, 250])\n",
            "torch.Size([3, 250, 250])\n",
            "torch.Size([3, 250, 250])\n",
            "torch.Size([3, 250, 250])\n",
            "torch.Size([3, 250, 250])\n",
            "torch.Size([3, 250, 250])\n",
            "torch.Size([3, 250, 250])\n",
            "torch.Size([3, 250, 250])\n",
            "torch.Size([3, 250, 250])\n",
            "torch.Size([3, 250, 250])\n",
            "torch.Size([3, 250, 250])\n",
            "torch.Size([3, 250, 250])\n",
            "torch.Size([3, 250, 250])\n",
            "torch.Size([3, 250, 250])\n",
            "torch.Size([3, 250, 250])\n",
            "torch.Size([3, 250, 250])\n",
            "torch.Size([3, 250, 250])\n",
            "torch.Size([3, 250, 250])\n",
            "torch.Size([3, 250, 250])\n",
            "torch.Size([3, 250, 250])\n",
            "torch.Size([3, 250, 250])\n",
            "torch.Size([3, 250, 250])\n",
            "torch.Size([3, 250, 250])\n",
            "torch.Size([3, 250, 250])\n",
            "torch.Size([3, 250, 250])\n",
            "torch.Size([3, 250, 250])\n",
            "torch.Size([3, 250, 250])\n",
            "torch.Size([3, 250, 250])\n",
            "torch.Size([3, 250, 250])\n",
            "torch.Size([3, 250, 250])\n",
            "torch.Size([3, 250, 250])\n",
            "torch.Size([3, 250, 250])\n",
            "torch.Size([3, 250, 250])\n",
            "torch.Size([3, 250, 250])\n",
            "torch.Size([3, 250, 250])\n",
            "torch.Size([3, 250, 250])\n",
            "torch.Size([3, 250, 250])\n",
            "torch.Size([3, 250, 250])\n",
            "torch.Size([3, 250, 250])\n",
            "torch.Size([3, 250, 250])\n",
            "torch.Size([3, 250, 250])\n",
            "torch.Size([3, 250, 250])\n",
            "torch.Size([3, 250, 250])\n",
            "torch.Size([3, 250, 250])\n",
            "torch.Size([3, 250, 250])\n",
            "torch.Size([3, 250, 250])\n",
            "torch.Size([3, 250, 250])\n",
            "torch.Size([3, 250, 250])\n",
            "torch.Size([3, 250, 250])\n",
            "torch.Size([3, 250, 250])\n",
            "torch.Size([3, 250, 250])\n",
            "torch.Size([3, 250, 250])\n",
            "torch.Size([3, 250, 250])\n",
            "torch.Size([3, 250, 250])\n",
            "torch.Size([3, 250, 250])\n",
            "torch.Size([3, 250, 250])\n",
            "torch.Size([3, 250, 250])\n",
            "torch.Size([3, 250, 250])\n",
            "torch.Size([3, 250, 250])\n",
            "torch.Size([3, 250, 250])\n"
          ]
        }
      ]
    },
    {
      "cell_type": "code",
      "source": [
        "# RESIZE TO SAME\n",
        "# DONE :D"
      ],
      "metadata": {
        "id": "3AF6Y6f20wUf"
      },
      "execution_count": null,
      "outputs": []
    },
    {
      "cell_type": "code",
      "source": [
        "class Model(nn.Module):\n",
        "  def __init__(self):\n",
        "    super().__init__()\n",
        "    self.model = nn.Sequential(\n",
        "        nn.Conv2d(3, 256, kernel_size=3, stride=1, padding=1),\n",
        "        nn.BatchNorm2d(256),\n",
        "        nn.ReLU(),\n",
        "        nn.Conv2d(256, 256, kernel_size=3, stride=1, padding=1),\n",
        "        nn.BatchNorm2d(256),\n",
        "        nn.ReLU(),\n",
        "        nn.MaxPool2d(2),\n",
        "\n",
        "        nn.Conv2d(256, 128, kernel_size=3, stride=1, padding=1),\n",
        "        nn.BatchNorm2d(128),\n",
        "        nn.ReLU(),\n",
        "        nn.Conv2d(128, 128, kernel_size=3, stride=1, padding=1),\n",
        "        nn.BatchNorm2d(128),\n",
        "        nn.ReLU(),\n",
        "        nn.MaxPool2d(2),\n",
        "\n",
        "        nn.Conv2d(128, 64, kernel_size=3, stride=1, padding=1),\n",
        "        nn.BatchNorm2d(64),\n",
        "        nn.ReLU(),\n",
        "        nn.Conv2d(64, 64, kernel_size=3, stride=1, padding=1),\n",
        "        nn.BatchNorm2d(64),\n",
        "        nn.ReLU(),\n",
        "        nn.MaxPool2d(2),\n",
        "\n",
        "        nn.Conv2d(64, 32, kernel_size=3, stride=1, padding=1),\n",
        "        nn.BatchNorm2d(32),\n",
        "        nn.ReLU(),\n",
        "        nn.Conv2d(32, 32, kernel_size=3, stride=1, padding=1),\n",
        "        nn.BatchNorm2d(32),\n",
        "        nn.ReLU(),\n",
        "        nn.MaxPool2d(2),\n",
        "\n",
        "        nn.Conv2d(32, 16, kernel_size=3, stride=1, padding=1),\n",
        "        nn.BatchNorm2d(16),\n",
        "        nn.ReLU(),\n",
        "        nn.Conv2d(16, 16, kernel_size=3, stride=1, padding=1),\n",
        "        nn.BatchNorm2d(16),\n",
        "        nn.ReLU(),\n",
        "        nn.MaxPool2d(2),\n",
        "\n",
        "        nn.Flatten(),\n",
        "        nn.Linear(784, 1),\n",
        "    )\n",
        "  def forward(self, x):\n",
        "    return self.model(x)"
      ],
      "metadata": {
        "id": "T2Qg8QMgg9vg"
      },
      "execution_count": null,
      "outputs": []
    },
    {
      "cell_type": "code",
      "source": [
        "device = torch.device(\"cuda:0\" if torch.cuda.is_available() else \"cpu\")\n",
        "device"
      ],
      "metadata": {
        "colab": {
          "base_uri": "https://localhost:8080/"
        },
        "id": "LZOICNKqEpJh",
        "outputId": "f856bc8d-8a9a-41e6-91c1-270f95db8132"
      },
      "execution_count": null,
      "outputs": [
        {
          "output_type": "execute_result",
          "data": {
            "text/plain": [
              "device(type='cuda', index=0)"
            ]
          },
          "metadata": {},
          "execution_count": 127
        }
      ]
    },
    {
      "cell_type": "code",
      "source": [
        "model = Model().to(device)\n",
        "summary(model, (3, 250, 250))"
      ],
      "metadata": {
        "colab": {
          "base_uri": "https://localhost:8080/"
        },
        "id": "y9t8UbWHBUwv",
        "outputId": "fe422174-a581-4155-da88-0837e0442078"
      },
      "execution_count": null,
      "outputs": [
        {
          "output_type": "stream",
          "name": "stdout",
          "text": [
            "----------------------------------------------------------------\n",
            "        Layer (type)               Output Shape         Param #\n",
            "================================================================\n",
            "            Conv2d-1        [-1, 256, 250, 250]           7,168\n",
            "       BatchNorm2d-2        [-1, 256, 250, 250]             512\n",
            "              ReLU-3        [-1, 256, 250, 250]               0\n",
            "            Conv2d-4        [-1, 256, 250, 250]         590,080\n",
            "       BatchNorm2d-5        [-1, 256, 250, 250]             512\n",
            "              ReLU-6        [-1, 256, 250, 250]               0\n",
            "         MaxPool2d-7        [-1, 256, 125, 125]               0\n",
            "            Conv2d-8        [-1, 128, 125, 125]         295,040\n",
            "       BatchNorm2d-9        [-1, 128, 125, 125]             256\n",
            "             ReLU-10        [-1, 128, 125, 125]               0\n",
            "           Conv2d-11        [-1, 128, 125, 125]         147,584\n",
            "      BatchNorm2d-12        [-1, 128, 125, 125]             256\n",
            "             ReLU-13        [-1, 128, 125, 125]               0\n",
            "        MaxPool2d-14          [-1, 128, 62, 62]               0\n",
            "           Conv2d-15           [-1, 64, 62, 62]          73,792\n",
            "      BatchNorm2d-16           [-1, 64, 62, 62]             128\n",
            "             ReLU-17           [-1, 64, 62, 62]               0\n",
            "           Conv2d-18           [-1, 64, 62, 62]          36,928\n",
            "      BatchNorm2d-19           [-1, 64, 62, 62]             128\n",
            "             ReLU-20           [-1, 64, 62, 62]               0\n",
            "        MaxPool2d-21           [-1, 64, 31, 31]               0\n",
            "           Conv2d-22           [-1, 32, 31, 31]          18,464\n",
            "      BatchNorm2d-23           [-1, 32, 31, 31]              64\n",
            "             ReLU-24           [-1, 32, 31, 31]               0\n",
            "           Conv2d-25           [-1, 32, 31, 31]           9,248\n",
            "      BatchNorm2d-26           [-1, 32, 31, 31]              64\n",
            "             ReLU-27           [-1, 32, 31, 31]               0\n",
            "        MaxPool2d-28           [-1, 32, 15, 15]               0\n",
            "           Conv2d-29           [-1, 16, 15, 15]           4,624\n",
            "      BatchNorm2d-30           [-1, 16, 15, 15]              32\n",
            "             ReLU-31           [-1, 16, 15, 15]               0\n",
            "           Conv2d-32           [-1, 16, 15, 15]           2,320\n",
            "      BatchNorm2d-33           [-1, 16, 15, 15]              32\n",
            "             ReLU-34           [-1, 16, 15, 15]               0\n",
            "        MaxPool2d-35             [-1, 16, 7, 7]               0\n",
            "          Flatten-36                  [-1, 784]               0\n",
            "           Linear-37                    [-1, 1]             785\n",
            "================================================================\n",
            "Total params: 1,188,017\n",
            "Trainable params: 1,188,017\n",
            "Non-trainable params: 0\n",
            "----------------------------------------------------------------\n",
            "Input size (MB): 0.72\n",
            "Forward/backward pass size (MB): 871.62\n",
            "Params size (MB): 4.53\n",
            "Estimated Total Size (MB): 876.86\n",
            "----------------------------------------------------------------\n"
          ]
        }
      ]
    },
    {
      "cell_type": "code",
      "source": [
        "loss_per_iteration = []\n",
        "def train_batch(epochs, model, criterion, optimizer, train_loader):\n",
        "  total = 0\n",
        "  correct = 0 \n",
        "  for i in range(epochs):\n",
        "    train_loss = 0.0\n",
        "    for inputs, labels in train_loader:\n",
        "      inputs, labels = inputs.to(device), labels.to(device)\n",
        "      outputs = model(inputs)\n",
        "      labels = torch.unsqueeze(labels, 1)\n",
        "      loss = criterion(outputs, labels)\n",
        "      optimizer.zero_grad()\n",
        "      loss.backward()\n",
        "      optimizer.step()\n",
        "      train_loss = train_loss + loss.item()\n",
        "\n",
        "    print(f\"Epoch: {i}/{epochs} Loss: {train_loss/len(train_loader):.5f} \")\n",
        "    loss_per_iteration.append(train_loss/len(train_loader))"
      ],
      "metadata": {
        "id": "LdtlXb-CD-S-"
      },
      "execution_count": null,
      "outputs": []
    },
    {
      "cell_type": "code",
      "source": [
        "gpu_info = !nvidia-smi\n",
        "gpu_info = '\\n'.join(gpu_info)\n",
        "if gpu_info.find('failed') >= 0:\n",
        "  print('Not connected to a GPU')\n",
        "else:\n",
        "  print(gpu_info)"
      ],
      "metadata": {
        "colab": {
          "base_uri": "https://localhost:8080/"
        },
        "id": "Ap5p8V5zW-yv",
        "outputId": "54e55f6f-2431-4db5-8f55-83c5e92d0cde"
      },
      "execution_count": null,
      "outputs": [
        {
          "output_type": "stream",
          "name": "stdout",
          "text": [
            "Tue Mar 15 09:41:23 2022       \n",
            "+-----------------------------------------------------------------------------+\n",
            "| NVIDIA-SMI 460.32.03    Driver Version: 460.32.03    CUDA Version: 11.2     |\n",
            "|-------------------------------+----------------------+----------------------+\n",
            "| GPU  Name        Persistence-M| Bus-Id        Disp.A | Volatile Uncorr. ECC |\n",
            "| Fan  Temp  Perf  Pwr:Usage/Cap|         Memory-Usage | GPU-Util  Compute M. |\n",
            "|                               |                      |               MIG M. |\n",
            "|===============================+======================+======================|\n",
            "|   0  Tesla P100-PCIE...  Off  | 00000000:00:04.0 Off |                    0 |\n",
            "| N/A   47C    P0    34W / 250W |   7809MiB / 16280MiB |      0%      Default |\n",
            "|                               |                      |                  N/A |\n",
            "+-------------------------------+----------------------+----------------------+\n",
            "                                                                               \n",
            "+-----------------------------------------------------------------------------+\n",
            "| Processes:                                                                  |\n",
            "|  GPU   GI   CI        PID   Type   Process name                  GPU Memory |\n",
            "|        ID   ID                                                   Usage      |\n",
            "|=============================================================================|\n",
            "+-----------------------------------------------------------------------------+\n"
          ]
        }
      ]
    },
    {
      "cell_type": "code",
      "source": [
        "model = Model().to(device)\n",
        "criterion = nn.MSELoss()\n",
        "optimizer = torch.optim.Adam(model.parameters(), lr =0.001)\n",
        "\n",
        "train_batch(epochs=35,\n",
        "            model=model,\n",
        "            criterion=criterion,\n",
        "            optimizer=optimizer,\n",
        "            train_loader = data_loader)"
      ],
      "metadata": {
        "colab": {
          "base_uri": "https://localhost:8080/"
        },
        "id": "6qt-U6zLLLdH",
        "outputId": "7efd778e-3d00-44a2-891e-ee3a003061dd"
      },
      "execution_count": null,
      "outputs": [
        {
          "output_type": "stream",
          "name": "stdout",
          "text": [
            "Epoch: 0/40 Loss: 2411.31552 \n",
            "Epoch: 1/40 Loss: 915.67965 \n",
            "Epoch: 2/40 Loss: 497.40488 \n",
            "Epoch: 3/40 Loss: 453.76269 \n",
            "Epoch: 4/40 Loss: 452.09357 \n",
            "Epoch: 5/40 Loss: 491.28315 \n",
            "Epoch: 6/40 Loss: 403.75021 \n",
            "Epoch: 7/40 Loss: 422.87397 \n",
            "Epoch: 8/40 Loss: 406.61560 \n",
            "Epoch: 9/40 Loss: 340.29401 \n",
            "Epoch: 10/40 Loss: 399.35788 \n",
            "Epoch: 11/40 Loss: 350.00114 \n",
            "Epoch: 12/40 Loss: 324.78222 \n",
            "Epoch: 13/40 Loss: 290.93693 \n",
            "Epoch: 14/40 Loss: 317.79394 \n",
            "Epoch: 15/40 Loss: 295.02648 \n",
            "Epoch: 16/40 Loss: 288.30678 \n",
            "Epoch: 17/40 Loss: 272.29258 \n",
            "Epoch: 18/40 Loss: 255.22025 \n",
            "Epoch: 19/40 Loss: 231.20786 \n",
            "Epoch: 20/40 Loss: 233.57762 \n",
            "Epoch: 21/40 Loss: 240.36691 \n",
            "Epoch: 22/40 Loss: 225.28644 \n",
            "Epoch: 23/40 Loss: 215.36949 \n",
            "Epoch: 24/40 Loss: 202.09612 \n",
            "Epoch: 25/40 Loss: 187.29650 \n",
            "Epoch: 26/40 Loss: 188.39581 \n",
            "Epoch: 27/40 Loss: 156.10751 \n",
            "Epoch: 28/40 Loss: 142.67887 \n",
            "Epoch: 29/40 Loss: 164.61677 \n",
            "Epoch: 30/40 Loss: 169.65871 \n",
            "Epoch: 31/40 Loss: 175.85457 \n",
            "Epoch: 32/40 Loss: 125.78276 \n",
            "Epoch: 33/40 Loss: 152.69629 \n",
            "Epoch: 34/40 Loss: 165.91800 \n",
            "Epoch: 35/40 Loss: 115.17895 \n",
            "Epoch: 36/40 Loss: 140.73650 \n",
            "Epoch: 37/40 Loss: 98.74439 \n",
            "Epoch: 38/40 Loss: 112.15816 \n",
            "Epoch: 39/40 Loss: 92.24528 \n"
          ]
        }
      ]
    },
    {
      "cell_type": "code",
      "source": [
        "model.eval()"
      ],
      "metadata": {
        "id": "uoCL0OdAAZ66"
      },
      "execution_count": null,
      "outputs": []
    },
    {
      "cell_type": "code",
      "source": [
        "img = cv2.imread('/content/94.jpg')\n",
        "img = np.array(img)\n",
        "totensor = transforms.ToTensor()\n",
        "img = totensor(img)\n",
        "resize = transforms.Resize(size=(248, 248))\n",
        "img = resize(img)\n",
        "img = torch.unsqueeze(img, 0)\n",
        "img = img.to(device)\n",
        "model(img)"
      ],
      "metadata": {
        "id": "e1FftiTTb93b"
      },
      "execution_count": null,
      "outputs": []
    },
    {
      "cell_type": "code",
      "source": [
        "#96-112knots"
      ],
      "metadata": {
        "id": "gnK2zHC3fZeG"
      },
      "execution_count": null,
      "outputs": []
    },
    {
      "cell_type": "code",
      "source": [
        "img = cv2.imread('/content/43(2).jpg')\n",
        "img = np.array(img)\n",
        "totensor = transforms.ToTensor()\n",
        "img = totensor(img)\n",
        "resize = transforms.Resize(size=(248, 248))\n",
        "img = resize(img)\n",
        "img = torch.unsqueeze(img, 0)\n",
        "img = img.to(device)\n",
        "model(img)"
      ],
      "metadata": {
        "colab": {
          "base_uri": "https://localhost:8080/"
        },
        "id": "oYtRqg7yEFBW",
        "outputId": "e9e6a598-dfd5-4523-d17d-72bb232c638d"
      },
      "execution_count": null,
      "outputs": [
        {
          "output_type": "execute_result",
          "data": {
            "text/plain": [
              "tensor([[56.1818]], device='cuda:0', grad_fn=<AddmmBackward0>)"
            ]
          },
          "metadata": {},
          "execution_count": 133
        }
      ]
    },
    {
      "cell_type": "code",
      "source": [
        "from pip._internal.utils.misc import get_installed_distributions\n",
        "import sys\n",
        "#import numpy as np # imported to test whether numpy shows up, which it does!\n",
        "\n",
        "def get_imported_packages():\n",
        "    p = get_installed_distributions()\n",
        "    p = {package.key:package.version for package in p}\n",
        "\n",
        "    imported_modules = set(sys.modules.keys())\n",
        "    \n",
        "    imported_modules.remove('pip')\n",
        "\n",
        "    modules = [(m, p[m]) for m in imported_modules if p.get(m, False)]\n",
        "\n",
        "    return modules\n",
        "\n",
        "\n",
        "def generate_requirements(filepath:str, modules):\n",
        "    with open(filepath, 'w') as f:\n",
        "        for module, version in modules:\n",
        "            f.write(f\"{module}=={version}\")\n",
        "\n",
        "\n",
        "generate_requirements('requirements.txt', get_imported_packages())"
      ],
      "metadata": {
        "id": "wtdIKlL_XtSQ"
      },
      "execution_count": null,
      "outputs": []
    },
    {
      "cell_type": "code",
      "source": [
        "saved_path = './saved_modelcyclonr'\n",
        "torch.save(model.state_dict(), saved_path)"
      ],
      "metadata": {
        "id": "8C-6sMAlfYru"
      },
      "execution_count": null,
      "outputs": []
    },
    {
      "cell_type": "code",
      "source": [
        "# torch.save(model.state_dict,'cyclonemodel2.h5')"
      ],
      "metadata": {
        "id": "j9nAGdnx9bAu"
      },
      "execution_count": null,
      "outputs": []
    },
    {
      "cell_type": "code",
      "source": [
        "# torch.save(model.state_dict,'cyclonemodel2.pth')"
      ],
      "metadata": {
        "id": "tgBvMdfaBlep"
      },
      "execution_count": null,
      "outputs": []
    },
    {
      "cell_type": "code",
      "source": [
        "model= Model()\n",
        "model.load_state_dict(torch.load('/content/saved_modelcyclone', map_location=torch.device('cpu')))\n",
        "model.eval()"
      ],
      "metadata": {
        "colab": {
          "base_uri": "https://localhost:8080/"
        },
        "id": "tNTMIkViO-_k",
        "outputId": "165319ce-d8b9-4e6e-9d0f-1bad2449e3ea"
      },
      "execution_count": null,
      "outputs": [
        {
          "output_type": "execute_result",
          "data": {
            "text/plain": [
              "Model(\n",
              "  (model): Sequential(\n",
              "    (0): Conv2d(3, 256, kernel_size=(3, 3), stride=(1, 1), padding=(1, 1))\n",
              "    (1): BatchNorm2d(256, eps=1e-05, momentum=0.1, affine=True, track_running_stats=True)\n",
              "    (2): ReLU()\n",
              "    (3): Conv2d(256, 256, kernel_size=(3, 3), stride=(1, 1), padding=(1, 1))\n",
              "    (4): BatchNorm2d(256, eps=1e-05, momentum=0.1, affine=True, track_running_stats=True)\n",
              "    (5): ReLU()\n",
              "    (6): MaxPool2d(kernel_size=2, stride=2, padding=0, dilation=1, ceil_mode=False)\n",
              "    (7): Conv2d(256, 128, kernel_size=(3, 3), stride=(1, 1), padding=(1, 1))\n",
              "    (8): BatchNorm2d(128, eps=1e-05, momentum=0.1, affine=True, track_running_stats=True)\n",
              "    (9): ReLU()\n",
              "    (10): Conv2d(128, 128, kernel_size=(3, 3), stride=(1, 1), padding=(1, 1))\n",
              "    (11): BatchNorm2d(128, eps=1e-05, momentum=0.1, affine=True, track_running_stats=True)\n",
              "    (12): ReLU()\n",
              "    (13): MaxPool2d(kernel_size=2, stride=2, padding=0, dilation=1, ceil_mode=False)\n",
              "    (14): Conv2d(128, 64, kernel_size=(3, 3), stride=(1, 1), padding=(1, 1))\n",
              "    (15): BatchNorm2d(64, eps=1e-05, momentum=0.1, affine=True, track_running_stats=True)\n",
              "    (16): ReLU()\n",
              "    (17): Conv2d(64, 64, kernel_size=(3, 3), stride=(1, 1), padding=(1, 1))\n",
              "    (18): BatchNorm2d(64, eps=1e-05, momentum=0.1, affine=True, track_running_stats=True)\n",
              "    (19): ReLU()\n",
              "    (20): MaxPool2d(kernel_size=2, stride=2, padding=0, dilation=1, ceil_mode=False)\n",
              "    (21): Conv2d(64, 32, kernel_size=(3, 3), stride=(1, 1), padding=(1, 1))\n",
              "    (22): BatchNorm2d(32, eps=1e-05, momentum=0.1, affine=True, track_running_stats=True)\n",
              "    (23): ReLU()\n",
              "    (24): Conv2d(32, 32, kernel_size=(3, 3), stride=(1, 1), padding=(1, 1))\n",
              "    (25): BatchNorm2d(32, eps=1e-05, momentum=0.1, affine=True, track_running_stats=True)\n",
              "    (26): ReLU()\n",
              "    (27): MaxPool2d(kernel_size=2, stride=2, padding=0, dilation=1, ceil_mode=False)\n",
              "    (28): Conv2d(32, 16, kernel_size=(3, 3), stride=(1, 1), padding=(1, 1))\n",
              "    (29): BatchNorm2d(16, eps=1e-05, momentum=0.1, affine=True, track_running_stats=True)\n",
              "    (30): ReLU()\n",
              "    (31): Conv2d(16, 16, kernel_size=(3, 3), stride=(1, 1), padding=(1, 1))\n",
              "    (32): BatchNorm2d(16, eps=1e-05, momentum=0.1, affine=True, track_running_stats=True)\n",
              "    (33): ReLU()\n",
              "    (34): MaxPool2d(kernel_size=2, stride=2, padding=0, dilation=1, ceil_mode=False)\n",
              "    (35): Flatten(start_dim=1, end_dim=-1)\n",
              "    (36): Linear(in_features=784, out_features=1, bias=True)\n",
              "  )\n",
              ")"
            ]
          },
          "metadata": {},
          "execution_count": 4
        }
      ]
    },
    {
      "cell_type": "code",
      "source": [
        "path = '/content/30.jpg'\n",
        "img = cv2.imread(path)\n",
        "img = np.array(img)\n",
        "totensor = transforms.ToTensor()\n",
        "img = totensor(img)\n",
        "resize = transforms.Resize(size=(250, 250))\n",
        "img = resize(img)\n",
        "img = torch.unsqueeze(img, 0)\n",
        "# img = img.to(device)\n",
        "model(img)"
      ],
      "metadata": {
        "colab": {
          "base_uri": "https://localhost:8080/"
        },
        "id": "PTyKnbq3n2J8",
        "outputId": "cb344d72-da67-4143-c46b-d916f0d57b59"
      },
      "execution_count": null,
      "outputs": [
        {
          "output_type": "execute_result",
          "data": {
            "text/plain": [
              "tensor([[41.0617]], grad_fn=<AddmmBackward0>)"
            ]
          },
          "metadata": {},
          "execution_count": 7
        }
      ]
    },
    {
      "cell_type": "code",
      "source": [
        "path = '/content/94.jpg'\n",
        "img = cv2.imread(path)\n",
        "img = np.array(img)\n",
        "totensor = transforms.ToTensor()\n",
        "img = totensor(img)\n",
        "resize = transforms.Resize(size=(250, 250))\n",
        "img = resize(img)\n",
        "img = torch.unsqueeze(img, 0)\n",
        "# img = img.to(device)\n",
        "model(img)"
      ],
      "metadata": {
        "colab": {
          "base_uri": "https://localhost:8080/"
        },
        "id": "Ai-nQFcdRI0R",
        "outputId": "ad1aca34-3e47-4573-9075-c69fd77051f6"
      },
      "execution_count": null,
      "outputs": [
        {
          "output_type": "execute_result",
          "data": {
            "text/plain": [
              "tensor([[81.0453]], grad_fn=<AddmmBackward0>)"
            ]
          },
          "metadata": {},
          "execution_count": 161
        }
      ]
    },
    {
      "cell_type": "code",
      "source": [
        "from google.colab import files\n",
        "files.download('saved_modelcyclone')"
      ],
      "metadata": {
        "id": "2VqiO1ee4gEe"
      },
      "execution_count": null,
      "outputs": []
    }
  ]
}